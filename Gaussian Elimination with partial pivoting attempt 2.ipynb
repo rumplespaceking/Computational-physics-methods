{
 "cells": [
  {
   "cell_type": "code",
   "execution_count": 9,
   "id": "e3021269",
   "metadata": {},
   "outputs": [],
   "source": [
    "import numpy as np\n"
   ]
  },
  {
   "cell_type": "code",
   "execution_count": 10,
   "id": "2fc539af",
   "metadata": {},
   "outputs": [],
   "source": [
    "#Input\n",
    "a = np.array([[0.0003, 3, 2.0001],\n",
    "              [1, 1, 1]], float)\n",
    "\n",
    "n = len(a)\n",
    "\n",
    "x = np.zeros(n)\n",
    "\n",
    "\n"
   ]
  },
  {
   "cell_type": "code",
   "execution_count": 11,
   "id": "ed2aab19",
   "metadata": {},
   "outputs": [],
   "source": [
    "#Pivoting funtion\n",
    "\n",
    "def Pivot(a):\n",
    "    n = len(a)\n",
    "    p = k\n",
    "    big = np.abs(a[k][k])\n",
    "    \n",
    "    for ii in range(k+1, n):\n",
    "        dummy = np.abs(a[ii][k])\n",
    "        if dummy > big:\n",
    "            dummy = big\n",
    "            p = ii\n",
    "            break\n",
    "        break\n",
    "    if p != k:\n",
    "        for jj in range(k, n):\n",
    "            dummy = a[p][jj]\n",
    "            a[p][jj] = a[k][jj]\n",
    "            a[k][jj] = dummy\n",
    "            break\n",
    "            dummy = a[p][n]\n",
    "            a[p][n] = a[k][n]\n",
    "            a[k][n] = dummy\n",
    "            break\n",
    "        \n",
    "        \n",
    "        \n",
    "\n"
   ]
  },
  {
   "cell_type": "code",
   "execution_count": 12,
   "id": "c5eadd46",
   "metadata": {},
   "outputs": [],
   "source": [
    "#Elimination function\n",
    "\n",
    "def Elimination(a):\n",
    "    for k in range(1, n-1):\n",
    "        Pivot(a)\n",
    "        if np.abs(a[k][k]) < tol:\n",
    "            er = -1\n",
    "            break\n",
    "        break\n",
    "        for i in range(k+1, n):\n",
    "            factor = a[i][k]/a[k][k]\n",
    "            for j in range(k+1, n):\n",
    "                a[i][j] = a[i][j] - m*a[k][j]\n",
    "                break\n",
    "            break\n",
    "        if np.abs(a[n][n]) < tol:\n",
    "            er = -1\n",
    "    \n"
   ]
  },
  {
   "cell_type": "code",
   "execution_count": 13,
   "id": "9c548d1f",
   "metadata": {},
   "outputs": [],
   "source": [
    "#Backsubstitution function\n",
    "\n",
    "def BackSub(a):\n",
    "    n = len(a)\n",
    "    \n",
    "    \n",
    "    x[n-1] = a[n-1][n]/a[n-1][n-1]\n",
    "    \n",
    "    for i in range(n-2, -1, -1):\n",
    "        s = 0\n",
    "        for j in range(i+1, n):\n",
    "            s = s + a[i][j]*x[j]\n",
    "            x[i] = (a[i][n]-s)/a[i][i]\n",
    "    return x\n",
    "            \n",
    "        \n",
    "    \n",
    "    "
   ]
  },
  {
   "cell_type": "code",
   "execution_count": 14,
   "id": "c809df5c",
   "metadata": {},
   "outputs": [],
   "source": [
    "#Final Algorithm\n",
    "\n",
    "er = 0\n",
    "Elimination(a)\n",
    "if er == -1:\n",
    "    BackSub(a)\n",
    "    \n",
    "    \n",
    "\n"
   ]
  },
  {
   "cell_type": "code",
   "execution_count": 15,
   "id": "915ab6b8",
   "metadata": {},
   "outputs": [
    {
     "name": "stdout",
     "output_type": "stream",
     "text": [
      "[[3.0000e-04 3.0000e+00 2.0001e+00]\n",
      " [1.0000e+00 1.0000e+00 1.0000e+00]]\n",
      "[0. 0.]\n"
     ]
    }
   ],
   "source": [
    "#Solution\n",
    "\n",
    "print(a)\n",
    "print(x)"
   ]
  },
  {
   "cell_type": "code",
   "execution_count": null,
   "id": "e3628317",
   "metadata": {},
   "outputs": [],
   "source": []
  }
 ],
 "metadata": {
  "kernelspec": {
   "display_name": "Python 3",
   "language": "python",
   "name": "python3"
  },
  "language_info": {
   "codemirror_mode": {
    "name": "ipython",
    "version": 3
   },
   "file_extension": ".py",
   "mimetype": "text/x-python",
   "name": "python",
   "nbconvert_exporter": "python",
   "pygments_lexer": "ipython3",
   "version": "3.8.8"
  }
 },
 "nbformat": 4,
 "nbformat_minor": 5
}
