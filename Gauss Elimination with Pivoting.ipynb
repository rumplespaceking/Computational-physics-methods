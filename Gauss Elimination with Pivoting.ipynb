{
 "cells": [
  {
   "cell_type": "code",
   "execution_count": 201,
   "id": "d759fa63",
   "metadata": {},
   "outputs": [],
   "source": [
    "import numpy as np\n",
    "from numpy import loadtxt"
   ]
  },
  {
   "cell_type": "code",
   "execution_count": 202,
   "id": "8d992ab8",
   "metadata": {},
   "outputs": [],
   "source": [
    "#Input\n",
    "a = np.loadtxt('C:\\Studies\\Sem 4\\PH206\\Labs\\Lab2\\inputmatrix.txt',delimiter=',')\n",
    "n = len(a)\n",
    "x = np.zeros(n)\n"
   ]
  },
  {
   "cell_type": "code",
   "execution_count": 203,
   "id": "f835574e",
   "metadata": {},
   "outputs": [],
   "source": [
    "#Gauss elimination with pivoting \n",
    "\n",
    "\n",
    "for i in range(n):\n",
    "    d = i\n",
    "    for k in range(i+1, n):\n",
    "        if np.abs(a[k][i]) > np.abs(a[i][i]):\n",
    "            d = k\n",
    "            \n",
    "    if d != i:\n",
    "        a[[i,d]] = a[[d,i]]\n",
    "        \n",
    "        for j in range(i+1,n):\n",
    "            m = a[j][i]/a[i][i]\n",
    "            \n",
    "            for l in range(n+1):\n",
    "                a[j][l] = a[j][l] - m*a[i][l]\n",
    "        \n",
    "    "
   ]
  },
  {
   "cell_type": "code",
   "execution_count": 208,
   "id": "e5116174",
   "metadata": {},
   "outputs": [],
   "source": [
    "#Back substitution\n",
    "\n",
    "x[n-1] = np.round(a[n-1][n]/a[n-1][n-1],4)\n",
    "\n",
    "for i in range(n-2,-1,-1):\n",
    "    x[i] = a[i][n]\n",
    "    \n",
    "    for j in range(i+1,n):\n",
    "        x[i] = x[i] - a[i][j]*x[j]\n",
    "    \n",
    "    x[i] = x[i]/a[i][i]"
   ]
  },
  {
   "cell_type": "code",
   "execution_count": 209,
   "id": "6f407c9c",
   "metadata": {},
   "outputs": [
    {
     "name": "stdout",
     "output_type": "stream",
     "text": [
      "\n",
      "Required solution is: \n",
      "X0 = 0.3333\tX1 = 0.6667\t"
     ]
    }
   ],
   "source": [
    "#Solution\n",
    "\n",
    "print('\\nRequired solution is: ')\n",
    "for i in range(n):\n",
    "    print('X%d = %0.4f' %(i,x[i]), end = '\\t')"
   ]
  },
  {
   "cell_type": "code",
   "execution_count": null,
   "id": "ecc49b1d",
   "metadata": {},
   "outputs": [],
   "source": []
  },
  {
   "cell_type": "code",
   "execution_count": null,
   "id": "54c83ff0",
   "metadata": {},
   "outputs": [],
   "source": []
  }
 ],
 "metadata": {
  "kernelspec": {
   "display_name": "Python 3",
   "language": "python",
   "name": "python3"
  },
  "language_info": {
   "codemirror_mode": {
    "name": "ipython",
    "version": 3
   },
   "file_extension": ".py",
   "mimetype": "text/x-python",
   "name": "python",
   "nbconvert_exporter": "python",
   "pygments_lexer": "ipython3",
   "version": "3.8.8"
  }
 },
 "nbformat": 4,
 "nbformat_minor": 5
}
