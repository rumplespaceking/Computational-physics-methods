{
 "cells": [
  {
   "cell_type": "code",
   "execution_count": 40,
   "id": "cc3c2289",
   "metadata": {},
   "outputs": [],
   "source": [
    "import nbconvert\n",
    "nbconvert.NotebookExporter.output_mimetype = 'application/x-ipynb+json'\n",
    "import numpy as np\n",
    "from numpy import loadtxt\n",
    "import matplotlib.pyplot as plt "
   ]
  },
  {
   "cell_type": "code",
   "execution_count": 41,
   "id": "c60298c1",
   "metadata": {},
   "outputs": [],
   "source": [
    "#Input\n",
    "a = np.loadtxt(\"C:\\Studies\\Sem 4\\PH206\\Labs\\Lab4\\lab4matrix1.txt\", delimiter = \",\")\n",
    "b = np.loadtxt(\"C:\\Studies\\Sem 4\\PH206\\Labs\\Lab4\\lab4matrix2.txt\", delimiter = \",\")\n",
    "n = len(a)\n"
   ]
  },
  {
   "cell_type": "code",
   "execution_count": 42,
   "id": "55a61e71",
   "metadata": {},
   "outputs": [
    {
     "name": "stdout",
     "output_type": "stream",
     "text": [
      "[[13.  7.  3.]\n",
      " [ 3.  5.  1.]\n",
      " [-5.  3. 12.]]\n"
     ]
    }
   ],
   "source": [
    "#Making it diagonally dominant\n",
    "\n",
    "for i in range(0, n):\n",
    "    s = 0\n",
    "    for j in range(0, n) :\n",
    "        d = j\n",
    "        s = s + np.abs(a[i][j]) \n",
    "        s = s - np.abs(a[i][i])\n",
    "        if (np.abs(a[i][i]) < s) :\n",
    "            a[:, [d, i]] = a[:, [i,d]]\n",
    "    \n",
    "print(a)"
   ]
  },
  {
   "cell_type": "code",
   "execution_count": 43,
   "id": "1893a6c3",
   "metadata": {},
   "outputs": [
    {
     "name": "stdout",
     "output_type": "stream",
     "text": [
      "[5.846153846153846, 0, 0] [ 46.15384615 100.         100.        ]\n",
      "[5.846153846153846, 2.0923076923076924, 0] [ 46.15384615  30.25641026 100.        ]\n",
      "[5.846153846153846, 2.0923076923076924, 1.9961538461538462] [46.15384615 30.25641026 99.61538462]\n",
      "[4.25887573964497, 2.0923076923076924, 1.9961538461538462] [ 6.47189349 30.25641026 99.61538462]\n",
      "[4.25887573964497, 2.6454437869822485, 1.9961538461538462] [ 6.47189349 11.81854043 99.61538462]\n",
      "[4.25887573964497, 2.6454437869822485, 1.1965039447731753] [ 6.47189349 11.81854043 19.65039448]\n",
      "[4.14556781975421, 2.6454437869822485, 1.1965039447731753] [ 3.63919549 11.81854043 19.65039448]\n",
      "[4.14556781975421, 2.8733585191928386, 1.1965039447731753] [ 3.63919549  4.22138269 19.65039448]\n",
      "[4.14556781975421, 2.8733585191928386, 1.0923136284327113] [3.63919549 4.22138269 9.23136284]\n",
      "[4.046888421565537, 2.8733585191928386, 1.0923136284327113] [1.17221054 4.22138269 9.23136284]\n",
      "[4.046888421565537, 2.9534042213741354, 1.0923136284327113] [1.17221054 1.55319262 9.23136284]\n",
      "[4.046888421565537, 2.9534042213741354, 1.0311857869754402] [1.17221054 1.55319262 3.1185787 ]\n",
      "[4.01789331457344, 2.9534042213741354, 1.0311857869754402] [0.44733286 1.55319262 3.1185787 ]\n",
      "[4.01789331457344, 2.983026853860848, 1.0311857869754402] [0.44733286 0.56577154 3.1185787 ]\n",
      "[4.01789331457344, 2.983026853860848, 1.0116988342737212] [0.44733286 0.56577154 1.16988343]\n",
      "[4.0064396553963775, 2.983026853860848, 1.0116988342737212] [0.16099138 0.56577154 1.16988343]\n",
      "[4.0064396553963775, 2.993796439907429, 1.0116988342737212] [0.16099138 0.20678534 1.16988343]\n",
      "[4.0064396553963775, 2.993796439907429, 1.0042340797716336] [0.16099138 0.20678534 0.42340798]\n",
      "[4.002363283179469, 2.993796439907429, 1.0042340797716336] [0.05908208 0.20678534 0.42340798]\n",
      "[4.002363283179469, 2.997735214137992, 1.0042340797716336] [0.05908208 0.07549286 0.42340798]\n",
      "[4.002363283179469, 2.997735214137992, 1.0015508977902807] [0.05908208 0.07549286 0.15508978]\n",
      "[4.000861600589477, 2.997735214137992, 1.0015508977902807] [0.02154001 0.07549286 0.15508978]\n",
      "[4.000861600589477, 2.9991728600882572, 1.0015508977902807] [0.02154001 0.02757133 0.15508978]\n",
      "[4.000861600589477, 2.9991728600882572, 1.0005657852235512] [0.02154001 0.02757133 0.05657852]\n",
      "[4.00031481720858, 2.9991728600882572, 1.0005657852235512] [0.00787043 0.02757133 0.05657852]\n",
      "[4.00031481720858, 2.9996979526301413, 1.0005657852235512] [0.00787043 0.01006825 0.05657852]\n",
      "[4.00031481720858, 2.9996979526301413, 1.0002066856793732] [0.00787043 0.01006825 0.02066857]\n",
      "[4.0001149441962225, 2.9996979526301413, 1.0002066856793732] [0.0028736  0.01006825 0.02066857]\n",
      "[4.0001149441962225, 2.9998896963463917, 1.0002066856793732] [0.0028736  0.00367679 0.02066857]\n",
      "[4.0001149441962225, 2.9998896963463917, 1.0000754693284948] [0.0028736  0.00367679 0.00754693]\n",
      "[4.000041978276136, 2.9998896963463917, 1.0000754693284948] [0.00104946 0.00367679 0.00754693]\n",
      "[4.000041978276136, 2.9999597191686194, 1.0000754693284948] [0.00104946 0.00134269 0.00754693]\n",
      "[4.000041978276136, 2.9999597191686194, 1.0000275611562353] [0.00104946 0.00134269 0.00275612]\n",
      "[4.000015329411612, 2.9999597191686194, 1.0000275611562353] [0.00038324 0.00134269 0.00275612]\n",
      "[4.000015329411612, 2.9999852901217854, 1.0000275611562353] [0.00038324 0.00049033 0.00275612]\n",
      "[4.000015329411612, 2.9999852901217854, 1.0000100647243921] [0.00038324 0.00049033 0.00100647]\n",
      "[4.000005598074948, 2.9999852901217854, 1.0000100647243921] [0.00013995 0.00049033 0.00100647]\n",
      "[4.000005598074948, 2.999994628210153, 1.0000100647243921] [0.00013995 0.00017906 0.00100647]\n",
      "[4.000005598074948, 2.999994628210153, 1.0000036754786898] [0.00013995 0.00017906 0.00036755]\n",
      "[4.000002044314836, 2.999994628210153, 1.0000036754786898] [5.11078709e-05 1.79059662e-04 3.67547869e-04]\n",
      "[4.000002044314836, 2.9999980383153604, 1.0000036754786898] [5.11078709e-05 6.53894880e-05 3.67547869e-04]\n",
      "[4.000002044314836, 2.9999980383153604, 1.0000013422190082] [5.11078709e-05 6.53894880e-05 1.34221901e-04]\n",
      "[4.0000007465488805, 2.9999980383153604, 1.0000013422190082] [1.86637220e-05 6.53894880e-05 1.34221901e-04]\n",
      "[4.0000007465488805, 2.99999928362687, 1.0000013422190082] [1.86637220e-05 2.38791043e-05 1.34221901e-04]\n",
      "[4.0000007465488805, 2.99999928362687, 1.000000490155316] [1.86637220e-05 2.38791043e-05 4.90155316e-05]\n",
      "[4.000000272626612, 2.99999928362687, 1.000000490155316] [6.81566530e-06 2.38791043e-05 4.90155316e-05]\n",
      "[4.000000272626612, 2.9999997383929697, 1.000000490155316] [6.81566530e-06 8.72023434e-06 4.90155316e-05]\n",
      "[4.000000272626612, 2.9999997383929697, 1.0000001789961792] [6.81566530e-06 8.72023434e-06 1.78996179e-05]\n",
      "[4.000000099558513, 2.9999997383929697, 1.0000001789961792] [2.48896284e-06 8.72023434e-06 1.78996179e-05]\n",
      "[4.000000099558513, 2.999999904465656, 1.0000001789961792] [2.48896284e-06 3.18447813e-06 1.78996179e-05]\n",
      "[4.000000099558513, 2.999999904465656, 1.0000000653663] [2.48896284e-06 3.18447813e-06 6.53662999e-06]\n",
      "[4.000000036357038, 2.999999904465656, 1.0000000653663] [9.08925957e-07 3.18447813e-06 6.53662999e-06]\n",
      "[4.000000036357038, 2.999999965112517, 1.0000000653663] [9.08925957e-07 1.16291610e-06 6.53662999e-06]\n",
      "[4.000000036357038, 2.999999965112517, 1.0000000238706368] [9.08925957e-07 1.16291610e-06 2.38706368e-06]\n",
      "[4.000000013276959, 2.999999965112517, 1.0000000238706368] [3.31923977e-07 1.16291610e-06 2.38706368e-06]\n",
      "[4.000000013276959, 2.999999987259697, 1.0000000238706368] [3.31923977e-07 4.24676768e-07 2.38706368e-06]\n",
      "[4.000000013276959, 2.999999987259697, 1.0000000087171421] [3.31923977e-07 4.24676768e-07 8.71714212e-07]\n",
      "[4.000000004848515, 2.999999987259697, 1.0000000087171421] [1.21212884e-07 4.24676768e-07 8.71714212e-07]\n",
      "[4.000000004848515, 2.999999995347462, 1.0000000087171421] [1.21212884e-07 1.55084597e-07 8.71714212e-07]\n",
      "[4.000000004848515, 2.999999995347462, 1.0000000031833491] [1.21212884e-07 1.55084597e-07 3.18334914e-07]\n",
      "[4.000000001770594, 2.999999995347462, 1.0000000031833491] [4.42648584e-08 1.55084597e-07 3.18334914e-07]\n",
      "[4.000000001770594, 2.9999999983009733, 1.0000000031833491] [4.42648584e-08 5.66342232e-08 3.18334914e-07]\n",
      "[4.000000001770594, 2.9999999983009733, 1.0000000011625043] [4.42648584e-08 5.66342232e-08 1.16250432e-07]\n",
      "[4.00000000064659, 2.9999999983009733, 1.0000000011625043] [1.61647584e-08 5.66342232e-08 1.16250432e-07]\n",
      "[4.00000000064659, 2.9999999993795448, 1.0000000011625043] [1.61647584e-08 2.06818414e-08 1.16250432e-07]\n",
      "[4.00000000064659, 2.9999999993795448, 1.0000000004245266] [1.61647584e-08 2.06818414e-08 4.24526636e-08]\n",
      "[4.000000000236123, 2.9999999993795448, 1.0000000004245266] [5.90307803e-09 2.06818414e-08 4.24526636e-08]\n",
      "[4.000000000236123, 2.999999999773421, 1.0000000004245266] [5.90307803e-09 7.55263999e-09 4.24526636e-08]\n",
      "[4.000000000236123, 2.999999999773421, 1.0000000001550293] [5.90307803e-09 7.55263999e-09 1.55029323e-08]\n",
      "[4.000000000086228, 2.999999999773421, 1.0000000001550293] [2.15569784e-09 7.55263999e-09 1.55029323e-08]\n",
      "[4.000000000086228, 2.999999999917257, 1.0000000001550293] [2.15569784e-09 2.75810486e-09 1.55029323e-08]\n",
      "[4.000000000086228, 2.999999999917257, 1.0000000000566143] [2.15569784e-09 2.75810486e-09 5.66142688e-09]\n",
      "[4.000000000031489, 2.999999999917257, 1.0000000000566143] [7.87214738e-10 2.75810486e-09 5.66142688e-09]\n",
      "[4.000000000031489, 2.9999999999697837, 1.0000000000566143] [7.87214738e-10 1.00720913e-09 5.66142688e-09]\n",
      "[4.000000000031489, 2.9999999999697837, 1.0000000000206741] [7.87214738e-10 1.00720913e-09 2.06741291e-09]\n",
      "[4.000000000031489, 2.9999999999697837, 1.0000000000206741]\n"
     ]
    }
   ],
   "source": [
    "#Gauss-Siedel Elimination\n",
    "def seidel(a, x, b, sol):\n",
    "    n = len(a)\n",
    "    \n",
    "    for i in range(0, n):\n",
    "        d = a[i][i]\n",
    "        for j in range(0, n):\n",
    "            a[i][j] = a[i][j] / d\n",
    "        b[i] = b[i] / d\n",
    "        \n",
    "    for i in range(0, n):\n",
    "        s = b[i]\n",
    "        for j in range(0, n):\n",
    "            if (j != i):\n",
    "                s = s - a[i][j] * x[j]\n",
    "        x[i] = s\n",
    "        e = (np.abs((x-sol) / sol )) * 100\n",
    "        print(x, e)\n",
    "    return x\n",
    "\n",
    "\n",
    "\n",
    "x = [0, 0, 0]\n",
    "\n",
    "b = np.loadtxt(\"C:\\Studies\\Sem 4\\PH206\\Labs\\Lab4\\lab4matrix2.txt\", delimiter = \",\")\n",
    "sol = np.loadtxt(\"C:\\Studies\\Sem 4\\PH206\\Labs\\Lab4\\lab4matrix3.txt\", delimiter = \",\")\n",
    "\n",
    "for i in range(0, 25):\n",
    "    x = seidel(a, x, b, sol)\n",
    "\n",
    "print(x)\n"
   ]
  },
  {
   "cell_type": "code",
   "execution_count": 39,
   "id": "3137bb8a",
   "metadata": {},
   "outputs": [
    {
     "name": "stdout",
     "output_type": "stream",
     "text": [
      "[[13.  7.  3.]\n",
      " [ 3.  5.  1.]\n",
      " [-5.  3. 12.]]\n",
      "[5.84615385 5.6        0.08333333] [46.15384615 86.66666667 91.66666667]\n",
      "[5.84615385 5.6        0.08333333]\n",
      "[2.81153846 2.07564103 1.11923077] [29.71153846 30.81196581 11.92307692]\n",
      "[2.81153846 2.07564103 1.11923077]\n",
      "[4.47021696 3.68923077 0.73589744] [11.75542406 22.97435897 26.41025641]\n",
      "[4.47021696 3.68923077 0.73589744]\n",
      "[3.68982249 2.77069034 1.02361604] [7.75443787 7.64365549 2.36160421]\n",
      "[3.68982249 2.77069034 1.02361604]\n",
      "[4.11802458 3.1813833  0.92808679] [2.95061447 6.04611002 7.1913215 ]\n",
      "[4.11802458 3.1813833  0.92808679]\n",
      "[3.91892743 2.9435679  1.00383108] [2.02681434 1.88107015 0.38310828]\n",
      "[3.91892743 2.9435679  1.00383108]\n",
      "[4.02950242 3.04787733 0.98032779] [0.73756054 1.59591092 1.9672213 ]\n",
      "[4.02950242 3.04787733 0.98032779]\n",
      "[3.97875964 2.98623299 1.00032334] [0.53100895 0.45890035 0.03233438]\n",
      "[3.97875964 2.98623299 1.00032334]\n",
      "[4.00733839 3.01267955 0.9945916 ] [0.1834597  0.42265154 0.54083966]\n",
      "[4.00733839 3.01267955 0.9945916 ]\n",
      "[3.99442064 2.99667865 0.99988778] [0.13948391 0.11071178 0.01122249]\n",
      "[3.99442064 2.99667865 0.99988778]\n",
      "[4.00181432 3.00337006 0.99850561] [0.04535798 0.11233529 0.14943935]\n",
      "[4.00181432 3.00337006 0.99850561]\n",
      "[3.99853021 2.99921029 0.99991345] [0.03674468 0.02632376 0.00865484]\n",
      "[3.99853021 2.99921029 0.99991345]\n",
      "[4.0004452  3.00089918 0.99958502] [0.01113007 0.02997273 0.04149831]\n",
      "[4.0004452  3.00089918 0.99958502]\n",
      "[3.99961159 2.99981588 0.99996071] [0.00971024 0.0061375  0.00392944]\n",
      "[3.99961159 2.99981588 0.99996071]\n",
      "[4.00010821 3.0002409  0.99988419] [0.0027053  0.00803015 0.01158061]\n",
      "[4.00010821 3.0002409  0.99988419]\n",
      "[3.99989701 2.99995823 0.99998486] [0.00257483 0.0013922  0.00151378]\n",
      "[3.99989701 2.99995823 0.99998486]\n",
      "[4.00002598 3.00006482 0.99996753] [0.00064957 0.00216079 0.00324724]\n",
      "[4.00002598 3.00006482 0.99996753]\n",
      "[3.99997259 2.9999909  0.99999462] [0.00068528 0.00030317 0.00053797]\n",
      "[3.99997259 2.9999909  0.99999462]\n",
      "[4.00000614 3.00001752 0.99999085] [0.00015347 0.00058409 0.00091476]\n",
      "[4.00000614 3.00001752 0.99999085]\n",
      "[3.99999268 2.99999815 0.99999818] [1.83108824e-04 6.17935505e-05 1.82282640e-04]\n",
      "[3.99999268 2.99999815 0.99999818]\n",
      "[4.00000142 3.00000476 0.99999741] [3.54713938e-05 1.58639236e-04 2.58836211e-04]\n",
      "[4.00000142 3.00000476 0.99999741]\n",
      "[3.99999803 2.99999967 0.9999994 ] [4.91329868e-05 1.11213677e-05 5.98604369e-05]\n",
      "[3.99999803 2.99999967 0.9999994 ]\n",
      "[4.00000032 3.0000013  0.99999926] [7.94480832e-06 4.32970852e-05 7.35472855e-05]\n",
      "[4.00000032 3.0000013  0.99999926]\n",
      "[3.99999947 2.99999996 0.99999981] [1.32422487e-05 1.45269429e-06 1.92314667e-05]\n",
      "[3.99999947 2.99999996 0.99999981]\n",
      "[4.00000007 3.00000036 0.99999979] [1.69617269e-06 1.18758967e-05 2.09808938e-05]\n",
      "[4.00000007 3.00000036 0.99999979]\n"
     ]
    }
   ],
   "source": [
    "#Jacobi Iteration\n",
    "a = np.loadtxt(\"C:\\Studies\\Sem 4\\PH206\\Labs\\Lab4\\lab4matrix1.txt\", delimiter = \",\")\n",
    "b = np.loadtxt(\"C:\\Studies\\Sem 4\\PH206\\Labs\\Lab4\\lab4matrix2.txt\", delimiter = \",\")\n",
    "n = len(a)\n",
    "\n",
    "for i in range(0, n):\n",
    "    s = 0\n",
    "    for j in range(0, n) :\n",
    "        d = j\n",
    "        s = s + np.abs(a[i][j]) \n",
    "        s = s - np.abs(a[i][i])\n",
    "        if (np.abs(a[i][i]) < s) :\n",
    "            a[:, [d, i]] = a[:, [i,d]]\n",
    "print(a)\n",
    "\n",
    "\n",
    "def jacobi(a, x, b, sol):\n",
    "    d = np.diag(a)\n",
    "    r = a - np.diagflat(d)\n",
    "    x = (b - np.dot(r, x)) / d\n",
    "    e = (np.abs((x-sol) / sol )) * 100\n",
    "    \n",
    "    print(x, e) \n",
    "    return x\n",
    "   \n",
    "x = [0, 0, 0]\n",
    "b = np.loadtxt(\"C:\\Studies\\Sem 4\\PH206\\Labs\\Lab4\\lab4matrix2.txt\", delimiter = \",\")\n",
    "sol = np.loadtxt(\"C:\\Studies\\Sem 4\\PH206\\Labs\\Lab4\\lab4matrix3.txt\", delimiter = \",\")\n",
    "\n",
    "for i in range(0, 25):\n",
    "    x = jacobi(a, x, b, sol)\n",
    "    \n",
    "    print(x)\n",
    "    \n",
    "\n",
    "\n",
    "\n",
    "    "
   ]
  },
  {
   "cell_type": "code",
   "execution_count": 33,
   "id": "02860bf1",
   "metadata": {},
   "outputs": [
    {
     "name": "stdout",
     "output_type": "stream",
     "text": [
      "[0, 1, 2, 3, 4, 5, 6, 7, 8, 9, 10, 11, 12, 13, 14, 15, 16, 17, 18, 19, 20, 21, 22, 23, 24]\n",
      "[[array([4., 3., 1.]), array([4., 3., 1.]), array([4., 3., 1.]), array([4., 3., 1.]), array([4., 3., 1.]), array([4., 3., 1.]), array([4., 3., 1.]), array([4., 3., 1.]), array([4., 3., 1.]), array([4., 3., 1.]), array([4., 3., 1.]), array([4., 3., 1.]), array([4., 3., 1.]), array([4., 3., 1.]), array([4., 3., 1.]), array([4., 3., 1.]), array([4., 3., 1.]), array([4., 3., 1.]), array([4., 3., 1.]), array([4., 3., 1.]), array([4., 3., 1.]), array([4., 3., 1.]), array([4., 3., 1.]), array([4., 3., 1.]), array([4., 3., 1.])], [array([4., 3., 1.]), array([4., 3., 1.]), array([4., 3., 1.]), array([4., 3., 1.]), array([4., 3., 1.]), array([4., 3., 1.]), array([4., 3., 1.]), array([4., 3., 1.]), array([4., 3., 1.]), array([4., 3., 1.]), array([4., 3., 1.]), array([4., 3., 1.]), array([4., 3., 1.]), array([4., 3., 1.]), array([4., 3., 1.]), array([4., 3., 1.]), array([4., 3., 1.]), array([4., 3., 1.]), array([4., 3., 1.]), array([4., 3., 1.]), array([4., 3., 1.]), array([4., 3., 1.]), array([4., 3., 1.]), array([4., 3., 1.]), array([4., 3., 1.])], [array([4., 3., 1.]), array([4., 3., 1.]), array([4., 3., 1.]), array([4., 3., 1.]), array([4., 3., 1.]), array([4., 3., 1.]), array([4., 3., 1.]), array([4., 3., 1.]), array([4., 3., 1.]), array([4., 3., 1.]), array([4., 3., 1.]), array([4., 3., 1.]), array([4., 3., 1.]), array([4., 3., 1.]), array([4., 3., 1.]), array([4., 3., 1.]), array([4., 3., 1.]), array([4., 3., 1.]), array([4., 3., 1.]), array([4., 3., 1.]), array([4., 3., 1.]), array([4., 3., 1.]), array([4., 3., 1.]), array([4., 3., 1.]), array([4., 3., 1.])], [array([4., 3., 1.]), array([4., 3., 1.]), array([4., 3., 1.]), array([4., 3., 1.]), array([4., 3., 1.]), array([4., 3., 1.]), array([4., 3., 1.]), array([4., 3., 1.]), array([4., 3., 1.]), array([4., 3., 1.]), array([4., 3., 1.]), array([4., 3., 1.]), array([4., 3., 1.]), array([4., 3., 1.]), array([4., 3., 1.]), array([4., 3., 1.]), array([4., 3., 1.]), array([4., 3., 1.]), array([4., 3., 1.]), array([4., 3., 1.]), array([4., 3., 1.]), array([4., 3., 1.]), array([4., 3., 1.]), array([4., 3., 1.]), array([4., 3., 1.])], [array([4., 3., 1.]), array([4., 3., 1.]), array([4., 3., 1.]), array([4., 3., 1.]), array([4., 3., 1.]), array([4., 3., 1.]), array([4., 3., 1.]), array([4., 3., 1.]), array([4., 3., 1.]), array([4., 3., 1.]), array([4., 3., 1.]), array([4., 3., 1.]), array([4., 3., 1.]), array([4., 3., 1.]), array([4., 3., 1.]), array([4., 3., 1.]), array([4., 3., 1.]), array([4., 3., 1.]), array([4., 3., 1.]), array([4., 3., 1.]), array([4., 3., 1.]), array([4., 3., 1.]), array([4., 3., 1.]), array([4., 3., 1.]), array([4., 3., 1.])], [array([4., 3., 1.]), array([4., 3., 1.]), array([4., 3., 1.]), array([4., 3., 1.]), array([4., 3., 1.]), array([4., 3., 1.]), array([4., 3., 1.]), array([4., 3., 1.]), array([4., 3., 1.]), array([4., 3., 1.]), array([4., 3., 1.]), array([4., 3., 1.]), array([4., 3., 1.]), array([4., 3., 1.]), array([4., 3., 1.]), array([4., 3., 1.]), array([4., 3., 1.]), array([4., 3., 1.]), array([4., 3., 1.]), array([4., 3., 1.]), array([4., 3., 1.]), array([4., 3., 1.]), array([4., 3., 1.]), array([4., 3., 1.]), array([4., 3., 1.])], [array([4., 3., 1.]), array([4., 3., 1.]), array([4., 3., 1.]), array([4., 3., 1.]), array([4., 3., 1.]), array([4., 3., 1.]), array([4., 3., 1.]), array([4., 3., 1.]), array([4., 3., 1.]), array([4., 3., 1.]), array([4., 3., 1.]), array([4., 3., 1.]), array([4., 3., 1.]), array([4., 3., 1.]), array([4., 3., 1.]), array([4., 3., 1.]), array([4., 3., 1.]), array([4., 3., 1.]), array([4., 3., 1.]), array([4., 3., 1.]), array([4., 3., 1.]), array([4., 3., 1.]), array([4., 3., 1.]), array([4., 3., 1.]), array([4., 3., 1.])], [array([4., 3., 1.]), array([4., 3., 1.]), array([4., 3., 1.]), array([4., 3., 1.]), array([4., 3., 1.]), array([4., 3., 1.]), array([4., 3., 1.]), array([4., 3., 1.]), array([4., 3., 1.]), array([4., 3., 1.]), array([4., 3., 1.]), array([4., 3., 1.]), array([4., 3., 1.]), array([4., 3., 1.]), array([4., 3., 1.]), array([4., 3., 1.]), array([4., 3., 1.]), array([4., 3., 1.]), array([4., 3., 1.]), array([4., 3., 1.]), array([4., 3., 1.]), array([4., 3., 1.]), array([4., 3., 1.]), array([4., 3., 1.]), array([4., 3., 1.])], [array([4., 3., 1.]), array([4., 3., 1.]), array([4., 3., 1.]), array([4., 3., 1.]), array([4., 3., 1.]), array([4., 3., 1.]), array([4., 3., 1.]), array([4., 3., 1.]), array([4., 3., 1.]), array([4., 3., 1.]), array([4., 3., 1.]), array([4., 3., 1.]), array([4., 3., 1.]), array([4., 3., 1.]), array([4., 3., 1.]), array([4., 3., 1.]), array([4., 3., 1.]), array([4., 3., 1.]), array([4., 3., 1.]), array([4., 3., 1.]), array([4., 3., 1.]), array([4., 3., 1.]), array([4., 3., 1.]), array([4., 3., 1.]), array([4., 3., 1.])], [array([4., 3., 1.]), array([4., 3., 1.]), array([4., 3., 1.]), array([4., 3., 1.]), array([4., 3., 1.]), array([4., 3., 1.]), array([4., 3., 1.]), array([4., 3., 1.]), array([4., 3., 1.]), array([4., 3., 1.]), array([4., 3., 1.]), array([4., 3., 1.]), array([4., 3., 1.]), array([4., 3., 1.]), array([4., 3., 1.]), array([4., 3., 1.]), array([4., 3., 1.]), array([4., 3., 1.]), array([4., 3., 1.]), array([4., 3., 1.]), array([4., 3., 1.]), array([4., 3., 1.]), array([4., 3., 1.]), array([4., 3., 1.]), array([4., 3., 1.])], [array([4., 3., 1.]), array([4., 3., 1.]), array([4., 3., 1.]), array([4., 3., 1.]), array([4., 3., 1.]), array([4., 3., 1.]), array([4., 3., 1.]), array([4., 3., 1.]), array([4., 3., 1.]), array([4., 3., 1.]), array([4., 3., 1.]), array([4., 3., 1.]), array([4., 3., 1.]), array([4., 3., 1.]), array([4., 3., 1.]), array([4., 3., 1.]), array([4., 3., 1.]), array([4., 3., 1.]), array([4., 3., 1.]), array([4., 3., 1.]), array([4., 3., 1.]), array([4., 3., 1.]), array([4., 3., 1.]), array([4., 3., 1.]), array([4., 3., 1.])], [array([4., 3., 1.]), array([4., 3., 1.]), array([4., 3., 1.]), array([4., 3., 1.]), array([4., 3., 1.]), array([4., 3., 1.]), array([4., 3., 1.]), array([4., 3., 1.]), array([4., 3., 1.]), array([4., 3., 1.]), array([4., 3., 1.]), array([4., 3., 1.]), array([4., 3., 1.]), array([4., 3., 1.]), array([4., 3., 1.]), array([4., 3., 1.]), array([4., 3., 1.]), array([4., 3., 1.]), array([4., 3., 1.]), array([4., 3., 1.]), array([4., 3., 1.]), array([4., 3., 1.]), array([4., 3., 1.]), array([4., 3., 1.]), array([4., 3., 1.])], [array([4., 3., 1.]), array([4., 3., 1.]), array([4., 3., 1.]), array([4., 3., 1.]), array([4., 3., 1.]), array([4., 3., 1.]), array([4., 3., 1.]), array([4., 3., 1.]), array([4., 3., 1.]), array([4., 3., 1.]), array([4., 3., 1.]), array([4., 3., 1.]), array([4., 3., 1.]), array([4., 3., 1.]), array([4., 3., 1.]), array([4., 3., 1.]), array([4., 3., 1.]), array([4., 3., 1.]), array([4., 3., 1.]), array([4., 3., 1.]), array([4., 3., 1.]), array([4., 3., 1.]), array([4., 3., 1.]), array([4., 3., 1.]), array([4., 3., 1.])], [array([4., 3., 1.]), array([4., 3., 1.]), array([4., 3., 1.]), array([4., 3., 1.]), array([4., 3., 1.]), array([4., 3., 1.]), array([4., 3., 1.]), array([4., 3., 1.]), array([4., 3., 1.]), array([4., 3., 1.]), array([4., 3., 1.]), array([4., 3., 1.]), array([4., 3., 1.]), array([4., 3., 1.]), array([4., 3., 1.]), array([4., 3., 1.]), array([4., 3., 1.]), array([4., 3., 1.]), array([4., 3., 1.]), array([4., 3., 1.]), array([4., 3., 1.]), array([4., 3., 1.]), array([4., 3., 1.]), array([4., 3., 1.]), array([4., 3., 1.])], [array([4., 3., 1.]), array([4., 3., 1.]), array([4., 3., 1.]), array([4., 3., 1.]), array([4., 3., 1.]), array([4., 3., 1.]), array([4., 3., 1.]), array([4., 3., 1.]), array([4., 3., 1.]), array([4., 3., 1.]), array([4., 3., 1.]), array([4., 3., 1.]), array([4., 3., 1.]), array([4., 3., 1.]), array([4., 3., 1.]), array([4., 3., 1.]), array([4., 3., 1.]), array([4., 3., 1.]), array([4., 3., 1.]), array([4., 3., 1.]), array([4., 3., 1.]), array([4., 3., 1.]), array([4., 3., 1.]), array([4., 3., 1.]), array([4., 3., 1.])], [array([4., 3., 1.]), array([4., 3., 1.]), array([4., 3., 1.]), array([4., 3., 1.]), array([4., 3., 1.]), array([4., 3., 1.]), array([4., 3., 1.]), array([4., 3., 1.]), array([4., 3., 1.]), array([4., 3., 1.]), array([4., 3., 1.]), array([4., 3., 1.]), array([4., 3., 1.]), array([4., 3., 1.]), array([4., 3., 1.]), array([4., 3., 1.]), array([4., 3., 1.]), array([4., 3., 1.]), array([4., 3., 1.]), array([4., 3., 1.]), array([4., 3., 1.]), array([4., 3., 1.]), array([4., 3., 1.]), array([4., 3., 1.]), array([4., 3., 1.])], [array([4., 3., 1.]), array([4., 3., 1.]), array([4., 3., 1.]), array([4., 3., 1.]), array([4., 3., 1.]), array([4., 3., 1.]), array([4., 3., 1.]), array([4., 3., 1.]), array([4., 3., 1.]), array([4., 3., 1.]), array([4., 3., 1.]), array([4., 3., 1.]), array([4., 3., 1.]), array([4., 3., 1.]), array([4., 3., 1.]), array([4., 3., 1.]), array([4., 3., 1.]), array([4., 3., 1.]), array([4., 3., 1.]), array([4., 3., 1.]), array([4., 3., 1.]), array([4., 3., 1.]), array([4., 3., 1.]), array([4., 3., 1.]), array([4., 3., 1.])], [array([4., 3., 1.]), array([4., 3., 1.]), array([4., 3., 1.]), array([4., 3., 1.]), array([4., 3., 1.]), array([4., 3., 1.]), array([4., 3., 1.]), array([4., 3., 1.]), array([4., 3., 1.]), array([4., 3., 1.]), array([4., 3., 1.]), array([4., 3., 1.]), array([4., 3., 1.]), array([4., 3., 1.]), array([4., 3., 1.]), array([4., 3., 1.]), array([4., 3., 1.]), array([4., 3., 1.]), array([4., 3., 1.]), array([4., 3., 1.]), array([4., 3., 1.]), array([4., 3., 1.]), array([4., 3., 1.]), array([4., 3., 1.]), array([4., 3., 1.])], [array([4., 3., 1.]), array([4., 3., 1.]), array([4., 3., 1.]), array([4., 3., 1.]), array([4., 3., 1.]), array([4., 3., 1.]), array([4., 3., 1.]), array([4., 3., 1.]), array([4., 3., 1.]), array([4., 3., 1.]), array([4., 3., 1.]), array([4., 3., 1.]), array([4., 3., 1.]), array([4., 3., 1.]), array([4., 3., 1.]), array([4., 3., 1.]), array([4., 3., 1.]), array([4., 3., 1.]), array([4., 3., 1.]), array([4., 3., 1.]), array([4., 3., 1.]), array([4., 3., 1.]), array([4., 3., 1.]), array([4., 3., 1.]), array([4., 3., 1.])], [array([4., 3., 1.]), array([4., 3., 1.]), array([4., 3., 1.]), array([4., 3., 1.]), array([4., 3., 1.]), array([4., 3., 1.]), array([4., 3., 1.]), array([4., 3., 1.]), array([4., 3., 1.]), array([4., 3., 1.]), array([4., 3., 1.]), array([4., 3., 1.]), array([4., 3., 1.]), array([4., 3., 1.]), array([4., 3., 1.]), array([4., 3., 1.]), array([4., 3., 1.]), array([4., 3., 1.]), array([4., 3., 1.]), array([4., 3., 1.]), array([4., 3., 1.]), array([4., 3., 1.]), array([4., 3., 1.]), array([4., 3., 1.]), array([4., 3., 1.])], [array([4., 3., 1.]), array([4., 3., 1.]), array([4., 3., 1.]), array([4., 3., 1.]), array([4., 3., 1.]), array([4., 3., 1.]), array([4., 3., 1.]), array([4., 3., 1.]), array([4., 3., 1.]), array([4., 3., 1.]), array([4., 3., 1.]), array([4., 3., 1.]), array([4., 3., 1.]), array([4., 3., 1.]), array([4., 3., 1.]), array([4., 3., 1.]), array([4., 3., 1.]), array([4., 3., 1.]), array([4., 3., 1.]), array([4., 3., 1.]), array([4., 3., 1.]), array([4., 3., 1.]), array([4., 3., 1.]), array([4., 3., 1.]), array([4., 3., 1.])], [array([4., 3., 1.]), array([4., 3., 1.]), array([4., 3., 1.]), array([4., 3., 1.]), array([4., 3., 1.]), array([4., 3., 1.]), array([4., 3., 1.]), array([4., 3., 1.]), array([4., 3., 1.]), array([4., 3., 1.]), array([4., 3., 1.]), array([4., 3., 1.]), array([4., 3., 1.]), array([4., 3., 1.]), array([4., 3., 1.]), array([4., 3., 1.]), array([4., 3., 1.]), array([4., 3., 1.]), array([4., 3., 1.]), array([4., 3., 1.]), array([4., 3., 1.]), array([4., 3., 1.]), array([4., 3., 1.]), array([4., 3., 1.]), array([4., 3., 1.])], [array([4., 3., 1.]), array([4., 3., 1.]), array([4., 3., 1.]), array([4., 3., 1.]), array([4., 3., 1.]), array([4., 3., 1.]), array([4., 3., 1.]), array([4., 3., 1.]), array([4., 3., 1.]), array([4., 3., 1.]), array([4., 3., 1.]), array([4., 3., 1.]), array([4., 3., 1.]), array([4., 3., 1.]), array([4., 3., 1.]), array([4., 3., 1.]), array([4., 3., 1.]), array([4., 3., 1.]), array([4., 3., 1.]), array([4., 3., 1.]), array([4., 3., 1.]), array([4., 3., 1.]), array([4., 3., 1.]), array([4., 3., 1.]), array([4., 3., 1.])], [array([4., 3., 1.]), array([4., 3., 1.]), array([4., 3., 1.]), array([4., 3., 1.]), array([4., 3., 1.]), array([4., 3., 1.]), array([4., 3., 1.]), array([4., 3., 1.]), array([4., 3., 1.]), array([4., 3., 1.]), array([4., 3., 1.]), array([4., 3., 1.]), array([4., 3., 1.]), array([4., 3., 1.]), array([4., 3., 1.]), array([4., 3., 1.]), array([4., 3., 1.]), array([4., 3., 1.]), array([4., 3., 1.]), array([4., 3., 1.]), array([4., 3., 1.]), array([4., 3., 1.]), array([4., 3., 1.]), array([4., 3., 1.]), array([4., 3., 1.])], [array([4., 3., 1.]), array([4., 3., 1.]), array([4., 3., 1.]), array([4., 3., 1.]), array([4., 3., 1.]), array([4., 3., 1.]), array([4., 3., 1.]), array([4., 3., 1.]), array([4., 3., 1.]), array([4., 3., 1.]), array([4., 3., 1.]), array([4., 3., 1.]), array([4., 3., 1.]), array([4., 3., 1.]), array([4., 3., 1.]), array([4., 3., 1.]), array([4., 3., 1.]), array([4., 3., 1.]), array([4., 3., 1.]), array([4., 3., 1.]), array([4., 3., 1.]), array([4., 3., 1.]), array([4., 3., 1.]), array([4., 3., 1.]), array([4., 3., 1.])]]\n"
     ]
    },
    {
     "ename": "ValueError",
     "evalue": "x and y can be no greater than 2-D, but have shapes (25,) and (25, 25, 3)",
     "output_type": "error",
     "traceback": [
      "\u001b[1;31m---------------------------------------------------------------------------\u001b[0m",
      "\u001b[1;31mValueError\u001b[0m                                Traceback (most recent call last)",
      "\u001b[1;32m<ipython-input-33-f6a963d6c09c>\u001b[0m in \u001b[0;36m<module>\u001b[1;34m\u001b[0m\n\u001b[0;32m      4\u001b[0m \u001b[0mprint\u001b[0m\u001b[1;33m(\u001b[0m\u001b[0mt\u001b[0m\u001b[1;33m)\u001b[0m\u001b[1;33m\u001b[0m\u001b[1;33m\u001b[0m\u001b[0m\n\u001b[0;32m      5\u001b[0m \u001b[0mprint\u001b[0m\u001b[1;33m(\u001b[0m\u001b[0my\u001b[0m\u001b[1;33m)\u001b[0m\u001b[1;33m\u001b[0m\u001b[1;33m\u001b[0m\u001b[0m\n\u001b[1;32m----> 6\u001b[1;33m \u001b[0mplt\u001b[0m\u001b[1;33m.\u001b[0m\u001b[0mplot\u001b[0m\u001b[1;33m(\u001b[0m\u001b[0mt\u001b[0m\u001b[1;33m,\u001b[0m \u001b[0my\u001b[0m\u001b[1;33m)\u001b[0m\u001b[1;33m\u001b[0m\u001b[1;33m\u001b[0m\u001b[0m\n\u001b[0m",
      "\u001b[1;32m~\\anaconda3\\lib\\site-packages\\matplotlib\\pyplot.py\u001b[0m in \u001b[0;36mplot\u001b[1;34m(scalex, scaley, data, *args, **kwargs)\u001b[0m\n\u001b[0;32m   2838\u001b[0m \u001b[1;33m@\u001b[0m\u001b[0m_copy_docstring_and_deprecators\u001b[0m\u001b[1;33m(\u001b[0m\u001b[0mAxes\u001b[0m\u001b[1;33m.\u001b[0m\u001b[0mplot\u001b[0m\u001b[1;33m)\u001b[0m\u001b[1;33m\u001b[0m\u001b[1;33m\u001b[0m\u001b[0m\n\u001b[0;32m   2839\u001b[0m \u001b[1;32mdef\u001b[0m \u001b[0mplot\u001b[0m\u001b[1;33m(\u001b[0m\u001b[1;33m*\u001b[0m\u001b[0margs\u001b[0m\u001b[1;33m,\u001b[0m \u001b[0mscalex\u001b[0m\u001b[1;33m=\u001b[0m\u001b[1;32mTrue\u001b[0m\u001b[1;33m,\u001b[0m \u001b[0mscaley\u001b[0m\u001b[1;33m=\u001b[0m\u001b[1;32mTrue\u001b[0m\u001b[1;33m,\u001b[0m \u001b[0mdata\u001b[0m\u001b[1;33m=\u001b[0m\u001b[1;32mNone\u001b[0m\u001b[1;33m,\u001b[0m \u001b[1;33m**\u001b[0m\u001b[0mkwargs\u001b[0m\u001b[1;33m)\u001b[0m\u001b[1;33m:\u001b[0m\u001b[1;33m\u001b[0m\u001b[1;33m\u001b[0m\u001b[0m\n\u001b[1;32m-> 2840\u001b[1;33m     return gca().plot(\n\u001b[0m\u001b[0;32m   2841\u001b[0m         \u001b[1;33m*\u001b[0m\u001b[0margs\u001b[0m\u001b[1;33m,\u001b[0m \u001b[0mscalex\u001b[0m\u001b[1;33m=\u001b[0m\u001b[0mscalex\u001b[0m\u001b[1;33m,\u001b[0m \u001b[0mscaley\u001b[0m\u001b[1;33m=\u001b[0m\u001b[0mscaley\u001b[0m\u001b[1;33m,\u001b[0m\u001b[1;33m\u001b[0m\u001b[1;33m\u001b[0m\u001b[0m\n\u001b[0;32m   2842\u001b[0m         **({\"data\": data} if data is not None else {}), **kwargs)\n",
      "\u001b[1;32m~\\anaconda3\\lib\\site-packages\\matplotlib\\axes\\_axes.py\u001b[0m in \u001b[0;36mplot\u001b[1;34m(self, scalex, scaley, data, *args, **kwargs)\u001b[0m\n\u001b[0;32m   1741\u001b[0m         \"\"\"\n\u001b[0;32m   1742\u001b[0m         \u001b[0mkwargs\u001b[0m \u001b[1;33m=\u001b[0m \u001b[0mcbook\u001b[0m\u001b[1;33m.\u001b[0m\u001b[0mnormalize_kwargs\u001b[0m\u001b[1;33m(\u001b[0m\u001b[0mkwargs\u001b[0m\u001b[1;33m,\u001b[0m \u001b[0mmlines\u001b[0m\u001b[1;33m.\u001b[0m\u001b[0mLine2D\u001b[0m\u001b[1;33m)\u001b[0m\u001b[1;33m\u001b[0m\u001b[1;33m\u001b[0m\u001b[0m\n\u001b[1;32m-> 1743\u001b[1;33m         \u001b[0mlines\u001b[0m \u001b[1;33m=\u001b[0m \u001b[1;33m[\u001b[0m\u001b[1;33m*\u001b[0m\u001b[0mself\u001b[0m\u001b[1;33m.\u001b[0m\u001b[0m_get_lines\u001b[0m\u001b[1;33m(\u001b[0m\u001b[1;33m*\u001b[0m\u001b[0margs\u001b[0m\u001b[1;33m,\u001b[0m \u001b[0mdata\u001b[0m\u001b[1;33m=\u001b[0m\u001b[0mdata\u001b[0m\u001b[1;33m,\u001b[0m \u001b[1;33m**\u001b[0m\u001b[0mkwargs\u001b[0m\u001b[1;33m)\u001b[0m\u001b[1;33m]\u001b[0m\u001b[1;33m\u001b[0m\u001b[1;33m\u001b[0m\u001b[0m\n\u001b[0m\u001b[0;32m   1744\u001b[0m         \u001b[1;32mfor\u001b[0m \u001b[0mline\u001b[0m \u001b[1;32min\u001b[0m \u001b[0mlines\u001b[0m\u001b[1;33m:\u001b[0m\u001b[1;33m\u001b[0m\u001b[1;33m\u001b[0m\u001b[0m\n\u001b[0;32m   1745\u001b[0m             \u001b[0mself\u001b[0m\u001b[1;33m.\u001b[0m\u001b[0madd_line\u001b[0m\u001b[1;33m(\u001b[0m\u001b[0mline\u001b[0m\u001b[1;33m)\u001b[0m\u001b[1;33m\u001b[0m\u001b[1;33m\u001b[0m\u001b[0m\n",
      "\u001b[1;32m~\\anaconda3\\lib\\site-packages\\matplotlib\\axes\\_base.py\u001b[0m in \u001b[0;36m__call__\u001b[1;34m(self, data, *args, **kwargs)\u001b[0m\n\u001b[0;32m    271\u001b[0m                 \u001b[0mthis\u001b[0m \u001b[1;33m+=\u001b[0m \u001b[0margs\u001b[0m\u001b[1;33m[\u001b[0m\u001b[1;36m0\u001b[0m\u001b[1;33m]\u001b[0m\u001b[1;33m,\u001b[0m\u001b[1;33m\u001b[0m\u001b[1;33m\u001b[0m\u001b[0m\n\u001b[0;32m    272\u001b[0m                 \u001b[0margs\u001b[0m \u001b[1;33m=\u001b[0m \u001b[0margs\u001b[0m\u001b[1;33m[\u001b[0m\u001b[1;36m1\u001b[0m\u001b[1;33m:\u001b[0m\u001b[1;33m]\u001b[0m\u001b[1;33m\u001b[0m\u001b[1;33m\u001b[0m\u001b[0m\n\u001b[1;32m--> 273\u001b[1;33m             \u001b[1;32myield\u001b[0m \u001b[1;32mfrom\u001b[0m \u001b[0mself\u001b[0m\u001b[1;33m.\u001b[0m\u001b[0m_plot_args\u001b[0m\u001b[1;33m(\u001b[0m\u001b[0mthis\u001b[0m\u001b[1;33m,\u001b[0m \u001b[0mkwargs\u001b[0m\u001b[1;33m)\u001b[0m\u001b[1;33m\u001b[0m\u001b[1;33m\u001b[0m\u001b[0m\n\u001b[0m\u001b[0;32m    274\u001b[0m \u001b[1;33m\u001b[0m\u001b[0m\n\u001b[0;32m    275\u001b[0m     \u001b[1;32mdef\u001b[0m \u001b[0mget_next_color\u001b[0m\u001b[1;33m(\u001b[0m\u001b[0mself\u001b[0m\u001b[1;33m)\u001b[0m\u001b[1;33m:\u001b[0m\u001b[1;33m\u001b[0m\u001b[1;33m\u001b[0m\u001b[0m\n",
      "\u001b[1;32m~\\anaconda3\\lib\\site-packages\\matplotlib\\axes\\_base.py\u001b[0m in \u001b[0;36m_plot_args\u001b[1;34m(self, tup, kwargs)\u001b[0m\n\u001b[0;32m    400\u001b[0m                              f\"have shapes {x.shape} and {y.shape}\")\n\u001b[0;32m    401\u001b[0m         \u001b[1;32mif\u001b[0m \u001b[0mx\u001b[0m\u001b[1;33m.\u001b[0m\u001b[0mndim\u001b[0m \u001b[1;33m>\u001b[0m \u001b[1;36m2\u001b[0m \u001b[1;32mor\u001b[0m \u001b[0my\u001b[0m\u001b[1;33m.\u001b[0m\u001b[0mndim\u001b[0m \u001b[1;33m>\u001b[0m \u001b[1;36m2\u001b[0m\u001b[1;33m:\u001b[0m\u001b[1;33m\u001b[0m\u001b[1;33m\u001b[0m\u001b[0m\n\u001b[1;32m--> 402\u001b[1;33m             raise ValueError(f\"x and y can be no greater than 2-D, but have \"\n\u001b[0m\u001b[0;32m    403\u001b[0m                              f\"shapes {x.shape} and {y.shape}\")\n\u001b[0;32m    404\u001b[0m         \u001b[1;32mif\u001b[0m \u001b[0mx\u001b[0m\u001b[1;33m.\u001b[0m\u001b[0mndim\u001b[0m \u001b[1;33m==\u001b[0m \u001b[1;36m1\u001b[0m\u001b[1;33m:\u001b[0m\u001b[1;33m\u001b[0m\u001b[1;33m\u001b[0m\u001b[0m\n",
      "\u001b[1;31mValueError\u001b[0m: x and y can be no greater than 2-D, but have shapes (25,) and (25, 25, 3)"
     ]
    },
    {
     "data": {
      "image/png": "[encoded data removed]",
      "text/plain": [
       "<Figure size 432x288 with 1 Axes>"
      ]
     },
     "metadata": {
      "needs_background": "light"
     },
     "output_type": "display_data"
    }
   ],
   "source": [
    "#Plotting\n",
    "t = [i for i in range(25)]\n",
    "y = [y for i in range(25)]\n",
    "print(t)\n",
    "print(y)\n",
    "plt.plot(t, y)"
   ]
  },
  {
   "cell_type": "code",
   "execution_count": null,
   "id": "febc238f",
   "metadata": {},
   "outputs": [],
   "source": []
  }
 ],
 "metadata": {
  "kernelspec": {
   "display_name": "Python 3",
   "language": "python",
   "name": "python3"
  },
  "language_info": {
   "codemirror_mode": {
    "name": "ipython",
    "version": 3
   },
   "file_extension": ".py",
   "mimetype": "text/x-python",
   "name": "python",
   "nbconvert_exporter": "python",
   "pygments_lexer": "ipython3",
   "version": "3.8.8"
  }
 },
 "nbformat": 4,
 "nbformat_minor": 5
}
