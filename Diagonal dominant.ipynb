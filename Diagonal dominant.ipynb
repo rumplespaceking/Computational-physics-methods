{
 "cells": [
  {
   "cell_type": "code",
   "execution_count": 65,
   "id": "46aef260",
   "metadata": {},
   "outputs": [],
   "source": [
    "import numpy as np\n",
    "from numpy import loadtxt"
   ]
  },
  {
   "cell_type": "code",
   "execution_count": 66,
   "id": "2c7f0b12",
   "metadata": {},
   "outputs": [
    {
     "name": "stdout",
     "output_type": "stream",
     "text": [
      "[[ 3.  7. 13.]\n",
      " [ 1.  5.  3.]\n",
      " [12.  3. -5.]]\n"
     ]
    }
   ],
   "source": [
    "a = np.loadtxt(\"C:\\Studies\\Sem 4\\PH206\\Labs\\Lab4\\lab4matrix1.txt\", delimiter = \",\")\n",
    "n = len(a)\n",
    "print(a)"
   ]
  },
  {
   "cell_type": "code",
   "execution_count": 67,
   "id": "c40b8129",
   "metadata": {},
   "outputs": [
    {
     "name": "stdout",
     "output_type": "stream",
     "text": [
      "[[13.  7.  3.]\n",
      " [ 3.  5.  1.]\n",
      " [-5.  3. 12.]]\n"
     ]
    }
   ],
   "source": [
    "for i in range(0, n):\n",
    "    \n",
    "    \n",
    "    s = 0\n",
    "    for j in range(0, n) :\n",
    "        d = j\n",
    "        \n",
    "        s = s + np.abs(a[i][j]) \n",
    "        s = s - np.abs(a[i][i])\n",
    "            \n",
    "        if (np.abs(a[i][i]) < s) :\n",
    "            a[:, [d, i]] = a[:, [i,d]]\n",
    "print(a)\n",
    "                \n",
    "                \n",
    "                \n",
    " "
   ]
  },
  {
   "cell_type": "code",
   "execution_count": null,
   "id": "e7caaccf",
   "metadata": {},
   "outputs": [],
   "source": []
  },
  {
   "cell_type": "code",
   "execution_count": null,
   "id": "92faf593",
   "metadata": {},
   "outputs": [],
   "source": []
  }
 ],
 "metadata": {
  "kernelspec": {
   "display_name": "Python 3",
   "language": "python",
   "name": "python3"
  },
  "language_info": {
   "codemirror_mode": {
    "name": "ipython",
    "version": 3
   },
   "file_extension": ".py",
   "mimetype": "text/x-python",
   "name": "python",
   "nbconvert_exporter": "python",
   "pygments_lexer": "ipython3",
   "version": "3.8.8"
  }
 },
 "nbformat": 4,
 "nbformat_minor": 5
}
