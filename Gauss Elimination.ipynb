{
 "cells": [
  {
   "cell_type": "code",
   "execution_count": 9,
   "id": "a0cf4d7c",
   "metadata": {},
   "outputs": [],
   "source": [
    "import numpy as np\n",
    "import sys"
   ]
  },
  {
   "cell_type": "code",
   "execution_count": 10,
   "id": "cfd353e8",
   "metadata": {},
   "outputs": [],
   "source": [
    "#Input\n",
    "\n",
    "a = np.loadtxt('C:\\Studies\\Sem 4\\PH206\\Labs\\Lab2\\inputmatrix.txt',delimiter=',')\n",
    "n = len(a)\n",
    "x = np.zeros(n)\n"
   ]
  },
  {
   "cell_type": "code",
   "execution_count": 11,
   "id": "70d0e9ec",
   "metadata": {},
   "outputs": [],
   "source": [
    "#Gauss Elimination\n",
    "\n",
    "for i in range(n):\n",
    "\n",
    "    if a[i][i] == 0.0:\n",
    "        sys.exit('Division by zero detected!')\n",
    "        \n",
    "    for j in range(i+1, n):\n",
    "        m = a[j][i]/a[i][i]\n",
    "        \n",
    "        for k in range(n+1):\n",
    "            a[j][k] = a[j][k] - m * a[i][k]"
   ]
  },
  {
   "cell_type": "code",
   "execution_count": 12,
   "id": "7315c79a",
   "metadata": {},
   "outputs": [],
   "source": [
    "#Back substitution\n",
    "\n",
    "x[n-1] = np.round(a[n-1][n]/a[n-1][n-1],3)\n",
    "\n",
    "for i in range(n-2,-1,-1):\n",
    "    x[i] = a[i][n]\n",
    "    \n",
    "    for j in range(i+1,n):\n",
    "        x[i] = x[i] - a[i][j]*x[j]\n",
    "    \n",
    "    x[i] = x[i]/a[i][i]"
   ]
  },
  {
   "cell_type": "code",
   "execution_count": 13,
   "id": "1ab708c5",
   "metadata": {},
   "outputs": [
    {
     "name": "stdout",
     "output_type": "stream",
     "text": [
      "\n",
      "Required solution is: \n",
      "X0 = -3.00\tX1 = 0.67\t"
     ]
    }
   ],
   "source": [
    "#Solution\n",
    "\n",
    "print('\\nRequired solution is: ')\n",
    "for i in range(n):\n",
    "    print('X%d = %0.2f' %(i,x[i]), end = '\\t')"
   ]
  },
  {
   "cell_type": "code",
   "execution_count": 6,
   "id": "dbf8270c",
   "metadata": {},
   "outputs": [
    {
     "name": "stdout",
     "output_type": "stream",
     "text": [
      "[[  3.          -0.1         -0.2          7.85      ]\n",
      " [  0.           7.00333333  -0.29333333 -19.56166667]\n",
      " [  0.           0.          10.01204188  70.08429319]]\n"
     ]
    }
   ],
   "source": [
    "print(a)"
   ]
  },
  {
   "cell_type": "code",
   "execution_count": null,
   "id": "34baf980",
   "metadata": {},
   "outputs": [],
   "source": []
  }
 ],
 "metadata": {
  "kernelspec": {
   "display_name": "Python 3",
   "language": "python",
   "name": "python3"
  },
  "language_info": {
   "codemirror_mode": {
    "name": "ipython",
    "version": 3
   },
   "file_extension": ".py",
   "mimetype": "text/x-python",
   "name": "python",
   "nbconvert_exporter": "python",
   "pygments_lexer": "ipython3",
   "version": "3.8.8"
  }
 },
 "nbformat": 4,
 "nbformat_minor": 5
}
