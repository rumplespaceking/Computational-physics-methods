{
 "cells": [
  {
   "cell_type": "code",
   "execution_count": 1,
   "id": "659722e9",
   "metadata": {},
   "outputs": [],
   "source": [
    "import nbconvert\n",
    "nbconvert.NotebookExporter.output_mimetype = 'application/x-ipynb+json'\n",
    "import numpy as np\n",
    "from numpy import loadtxt\n"
   ]
  },
  {
   "cell_type": "code",
   "execution_count": 2,
   "id": "e280ae44",
   "metadata": {},
   "outputs": [],
   "source": [
    "#Input\n",
    "A = np.loadtxt('C:\\Studies\\Sem 4\\PH206\\Labs\\Lab3\\lab3matrix.txt',delimiter=',')\n",
    "n = len(A)\n",
    "U = np.zeros((n, n), dtype = np.double)\n",
    "L = np.eye(n, dtype = np.double)"
   ]
  },
  {
   "cell_type": "code",
   "execution_count": 3,
   "id": "39477996",
   "metadata": {},
   "outputs": [],
   "source": [
    "#Doolittle Decomposition\n",
    "for i in range(n):\n",
    "    for j in range(i+1):\n",
    "        s1 = sum(U[k][i] * L[j][k] for k in range(j))\n",
    "        U[j][i] = A[j][i] - s1\n",
    "        \n",
    "    for j in range(i, n):\n",
    "        s2 = sum(U[k][i] * L[j][k] for k in range(j))\n",
    "        L[j][i] = (A[j][i] - s2) / U[i][i]\n"
   ]
  },
  {
   "cell_type": "code",
   "execution_count": 4,
   "id": "a188e197",
   "metadata": {},
   "outputs": [
    {
     "name": "stdout",
     "output_type": "stream",
     "text": [
      "[[1.         0.         0.         0.        ]\n",
      " [0.75       1.         0.         0.        ]\n",
      " [0.5        0.66666667 1.         0.        ]\n",
      " [0.25       0.33333333 0.5        1.        ]]\n",
      "[[4.         3.         2.         1.        ]\n",
      " [0.         0.75       0.5        0.25      ]\n",
      " [0.         0.         0.66666667 0.33333333]\n",
      " [0.         0.         0.         0.5       ]]\n",
      "[[4. 3. 2. 1.]\n",
      " [3. 3. 2. 1.]\n",
      " [2. 2. 2. 1.]\n",
      " [1. 1. 1. 1.]]\n"
     ]
    }
   ],
   "source": [
    "#Solution and Checking\n",
    "print(L)\n",
    "print(U)\n",
    "K = np.dot(L, U)\n",
    "print(K)"
   ]
  },
  {
   "cell_type": "code",
   "execution_count": 5,
   "id": "936e4e82",
   "metadata": {},
   "outputs": [
    {
     "name": "stdout",
     "output_type": "stream",
     "text": [
      "[[2.         0.         0.         0.        ]\n",
      " [1.5        0.8660254  0.         0.        ]\n",
      " [1.         0.57735027 0.81649658 0.        ]\n",
      " [0.5        0.28867513 0.40824829 0.70710678]]\n"
     ]
    }
   ],
   "source": [
    "#Cholesky\n",
    "C = np.zeros((n, n), dtype = np.double)\n",
    "for i in range(n):\n",
    "    for j in range(i+1):\n",
    "        s3 = sum(C[i][k] * C[j][k] for k in range(j))\n",
    "        if (i ==j):\n",
    "            C[i][j] = np.sqrt(A[i][i] - s3) \n",
    "        else:\n",
    "            C[i][j] = (1.0 / C[j][j] * (A[i][j] - s3))\n",
    "            \n",
    "print(C)"
   ]
  },
  {
   "cell_type": "code",
   "execution_count": 6,
   "id": "d6ffd8e5",
   "metadata": {
    "scrolled": true
   },
   "outputs": [
    {
     "name": "stdout",
     "output_type": "stream",
     "text": [
      "[[2.         0.         0.         0.        ]\n",
      " [1.5        0.8660254  0.         0.        ]\n",
      " [1.         0.57735027 0.81649658 0.        ]\n",
      " [0.5        0.28867513 0.40824829 0.70710678]]\n"
     ]
    }
   ],
   "source": [
    "#Checking\n",
    "\n",
    "J = np.linalg.cholesky(A)\n",
    "print(J)"
   ]
  },
  {
   "cell_type": "code",
   "execution_count": 10,
   "id": "25fbd276",
   "metadata": {},
   "outputs": [],
   "source": [
    "#Example problem\n",
    "\n",
    "A = np.loadtxt('C:\\Studies\\Sem 4\\PH206\\Labs\\Lab3\\lab3matrix.txt',delimiter=',')\n",
    "B = np.loadtxt('C:\\Studies\\Sem 4\\PH206\\Labs\\Lab3\\lab3matrix2.txt',delimiter=',')\n",
    "n = len(A)\n",
    "U = np.zeros((n, n), dtype = np.double)\n",
    "L = np.eye(n, dtype = np.double)        "
   ]
  },
  {
   "cell_type": "code",
   "execution_count": 11,
   "id": "e85e2365",
   "metadata": {},
   "outputs": [
    {
     "name": "stdout",
     "output_type": "stream",
     "text": [
      "[  27.15 -117.85  107.1    38.6 ]\n",
      "[  7.85       -25.1875      84.26666667  19.3       ]\n"
     ]
    }
   ],
   "source": [
    "#Doolittle Method\n",
    "for i in range(n):\n",
    "    for j in range(i+1):\n",
    "        s1 = sum(U[k][i] * L[j][k] for k in range(j))\n",
    "        U[j][i] = A[j][i] - s1\n",
    "        \n",
    "    for j in range(i, n):\n",
    "        s2 = sum(U[k][i] * L[j][k] for k in range(j))\n",
    "        L[j][i] = (A[j][i] - s2) / U[i][i]\n",
    "        \n",
    "y = np.zeros(n)\n",
    "x = np.zeros(n)\n",
    "\n",
    "#forward substitution \n",
    "for i in range(n):\n",
    "    t1 = B[i]\n",
    "    for j in range(i):\n",
    "        t1 = t1 - L[i][j] * y[j]\n",
    "    y[i] = t1 / L[i][i]\n",
    "    \n",
    "#backward substitution \n",
    "for k in range(n-1, -1, -1):\n",
    "    t2 = y[k]\n",
    "    for l in range(k+1, n):\n",
    "        t2 = t2 - U[k][l] * x[l]\n",
    "    x[k] = t2 / U[k][k]\n",
    "    \n",
    "print(x)\n",
    "print(y)\n",
    "    \n",
    "        \n",
    "    \n"
   ]
  },
  {
   "cell_type": "code",
   "execution_count": 12,
   "id": "fd60b2d7",
   "metadata": {},
   "outputs": [
    {
     "name": "stdout",
     "output_type": "stream",
     "text": [
      "[  27.15 -117.85  107.1    38.6 ]\n",
      "[  3.925      -29.08401981 103.20516783  27.29432175]\n"
     ]
    }
   ],
   "source": [
    "#Cholesky method\n",
    "\n",
    "C = np.zeros((n, n), dtype = np.double)\n",
    "CT = np.transpose(C)\n",
    "for i in range(n):\n",
    "    for j in range(i+1):\n",
    "        s3 = sum(C[i][k] * C[j][k] for k in range(j))\n",
    "        if (i ==j):\n",
    "            C[i][j] = np.sqrt(A[i][i] - s3) \n",
    "        else:\n",
    "            C[i][j] = (1.0 / C[j][j] * (A[i][j] - s3))\n",
    "\n",
    "y = np.zeros(n)\n",
    "x = np.zeros(n)\n",
    "\n",
    "#forward substitution \n",
    "for i in range(n):\n",
    "    t1 = B[i]\n",
    "    for j in range(i):\n",
    "        t1 = t1 - C[i][j] * y[j]\n",
    "    y[i] = t1 / C[i][i]\n",
    "    \n",
    "#backward substitution \n",
    "for k in range(n-1, -1, -1):\n",
    "    t2 = y[k]\n",
    "    for l in range(k+1, n):\n",
    "        t2 = t2 - CT[k][l] * x[l]\n",
    "    x[k] = t2 / CT[k][k]\n",
    "    \n",
    "print(x)\n",
    "print(y)"
   ]
  },
  {
   "cell_type": "code",
   "execution_count": null,
   "id": "b29a6f12",
   "metadata": {},
   "outputs": [],
   "source": []
  },
  {
   "cell_type": "code",
   "execution_count": null,
   "id": "0fda25ea",
   "metadata": {},
   "outputs": [],
   "source": []
  },
  {
   "cell_type": "code",
   "execution_count": null,
   "id": "535337ea",
   "metadata": {},
   "outputs": [],
   "source": []
  }
 ],
 "metadata": {
  "kernelspec": {
   "display_name": "Python 3",
   "language": "python",
   "name": "python3"
  },
  "language_info": {
   "codemirror_mode": {
    "name": "ipython",
    "version": 3
   },
   "file_extension": ".py",
   "mimetype": "text/x-python",
   "name": "python",
   "nbconvert_exporter": "python",
   "pygments_lexer": "ipython3",
   "version": "3.8.8"
  }
 },
 "nbformat": 4,
 "nbformat_minor": 5
}
