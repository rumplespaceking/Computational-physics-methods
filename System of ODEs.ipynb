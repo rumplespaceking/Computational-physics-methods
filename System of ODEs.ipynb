{
 "cells": [
  {
   "cell_type": "code",
   "execution_count": 132,
   "id": "87951778",
   "metadata": {},
   "outputs": [],
   "source": [
    "import numpy as np\n",
    "import matplotlib.pyplot as plt\n",
    "from math import sin, cos, exp"
   ]
  },
  {
   "cell_type": "code",
   "execution_count": 133,
   "id": "5fb1314c",
   "metadata": {},
   "outputs": [],
   "source": [
    "#Writing the functions\n",
    "def f1(x, y1):\n",
    "    return -0.5*y1\n",
    "def f2(x, y1, y2):\n",
    "    return 4 - 0.3*y2 - 0.1*y1\n",
    "def y1_exact(x):\n",
    "    return 4*exp(-0.5*x)\n",
    "def y2_exact(x):\n",
    "    return\n",
    "def rk4(y1, y2, x, dx):\n",
    "    k1a = f1(x, y1)\n",
    "    k2a = f1(x+0.5*dx, y1+0.5*k1a*dx)\n",
    "    k3a = f1(x+dx*0.5,y1+k2a*0.5*dx)\n",
    "    k4a = f1(x+dx,y1+k3a*dx)\n",
    "    y1 += dx*(k1a+2*k2a+2*k3a+k4a)/6\n",
    "    k1b = f2(x, y1, y2)\n",
    "    k2b = f2(x+0.5*dx,y1+0.5*k1a*dx, y2+0.5*k1b*dx)\n",
    "    k3b = f2(x+dx*0.5,y1+k2a*0.5*dx, y2+k2b*0.5*dx)\n",
    "    k4b = f2(x+dx,y1+k3a*dx, y2+k3b*dx)\n",
    "    y2 += dx*(k1b+2*k2b+2*k3b+k4b)/6\n",
    "    return y1, y2\n",
    "\n",
    "def euler(y1, y2, x, dx):\n",
    "    y1_new = y1 + dx*(f1(x, y1))\n",
    "    y2_new = y2 + dx*(f2(x, y1, y2))\n",
    "    return y1_new, y2_new\n",
    "\n",
    "def heun_iter(y1, y2, x, dx):\n",
    "    k1a = f1(x,y1)\n",
    "    k2a = f1(x+dx,y1+k1a*dx)\n",
    "    y1 += 0.5*dx*(k1a+k2a)\n",
    "    k1b = f2(x, y1, y2)\n",
    "    k2b = f2(x+dx, y1+k1a*dx, y2+k1b*dx)\n",
    "    y2 += 0.5*dx*(k1b+k2b)\n",
    "    return y1,y2\n",
    "def midpoint_iter(y1, y2, x, dx):\n",
    "    k1a = f1(x,y1)\n",
    "    k2a = f1(x+0.5*dx,y1+0.5*k1a*dx)\n",
    "    y1 += k2a*dx\n",
    "    k1b = f2(x, y1, y2)\n",
    "    k2b = f2(x+0.5*dx,y1+0.5*k1a*dx,y2+0.5*k1b*dx )\n",
    "    y2 += k2b*dx\n",
    "    return y1,y2\n"
   ]
  },
  {
   "cell_type": "code",
   "execution_count": 134,
   "id": "a50c97ca",
   "metadata": {},
   "outputs": [],
   "source": [
    "#Plotting results\n",
    "def plot_result(y1, y2, xmax, n):\n",
    "    dx = xmax/n\n",
    "    x = 0.0\n",
    "    allx = []\n",
    "    r_exact = []\n",
    "    r1_euler = []\n",
    "    r2_euler = []\n",
    "    r1_rk4 = []\n",
    "    r2_rk4 = []\n",
    "    r1_heun = []\n",
    "    r2_heun = []\n",
    "    r1_midpoint = []\n",
    "    r2_midpoint = []\n",
    "    \n",
    "    y1 = y1_rk4 = y1_euler = y1_midpoint = y1_heun = y10\n",
    "    y2 = y2_rk4 = y2_euler = y2_midpoint = y2_heun = y20\n",
    "\n",
    "    for i in range(n):\n",
    "        y1 = y1_exact(x)\n",
    "        y1_rk4, y2_rk4 = rk4(y1_rk4, y2_rk4, x, dx)\n",
    "        y1_euler, y2_euler = euler(y1_euler, y2_euler, x, dx)\n",
    "        y1_heun, y2_heun = heun(y1_heun, y2_heun, x, dx)\n",
    "        y1_midpoint, y2_midpoint = midpoint(y1_midpoint, y2_midpoint, x, dx)\n",
    "        allx.append(x)\n",
    "        r_exact.append(y1)\n",
    "        r1_rk4.append(y1_rk4)\n",
    "        r2_rk4.append(y2_rk4)\n",
    "        r1_euler.append(y1_euler)\n",
    "        r2_euler.append(y2_euler)\n",
    "        x += dx\n",
    "    \n",
    "    plt.plot(allx, r1_rk4, label=\"Runge-Kutta for y1\")\n",
    "    plt.plot(allx, r2_rk4, label=\"Runge-Kutta for y2\")\n",
    "    plt.plot(allx, r1_euler, label=\"Euler for y1\")\n",
    "    plt.plot(allx, r2_euler, label=\"Euler for y2\")\n",
    "    plt.plot(allx, r_exact, label=\"Exact for y1\")\n",
    "    \n",
    "    plt.legend(loc=1)\n",
    "    plt.grid(True)\n"
   ]
  },
  {
   "cell_type": "code",
   "execution_count": 135,
   "id": "aee35df6",
   "metadata": {},
   "outputs": [
    {
     "ename": "NameError",
     "evalue": "name 'heun' is not defined",
     "output_type": "error",
     "traceback": [
      "\u001b[1;31m---------------------------------------------------------------------------\u001b[0m",
      "\u001b[1;31mNameError\u001b[0m                                 Traceback (most recent call last)",
      "\u001b[1;32m<ipython-input-135-d89dfcb28d97>\u001b[0m in \u001b[0;36m<module>\u001b[1;34m\u001b[0m\n\u001b[0;32m      5\u001b[0m \u001b[0mn\u001b[0m \u001b[1;33m=\u001b[0m \u001b[1;36m40\u001b[0m\u001b[1;33m\u001b[0m\u001b[1;33m\u001b[0m\u001b[0m\n\u001b[0;32m      6\u001b[0m \u001b[1;33m\u001b[0m\u001b[0m\n\u001b[1;32m----> 7\u001b[1;33m \u001b[0mplot_result\u001b[0m\u001b[1;33m(\u001b[0m\u001b[0my10\u001b[0m\u001b[1;33m,\u001b[0m \u001b[0my20\u001b[0m\u001b[1;33m,\u001b[0m \u001b[0mxmax\u001b[0m\u001b[1;33m*\u001b[0m\u001b[1;36m2\u001b[0m\u001b[1;33m,\u001b[0m \u001b[0mn\u001b[0m\u001b[1;33m*\u001b[0m\u001b[1;36m2\u001b[0m\u001b[1;33m)\u001b[0m\u001b[1;33m\u001b[0m\u001b[1;33m\u001b[0m\u001b[0m\n\u001b[0m",
      "\u001b[1;32m<ipython-input-134-7bd2a5b74950>\u001b[0m in \u001b[0;36mplot_result\u001b[1;34m(y1, y2, xmax, n)\u001b[0m\n\u001b[0;32m     21\u001b[0m         \u001b[0my1_rk4\u001b[0m\u001b[1;33m,\u001b[0m \u001b[0my2_rk4\u001b[0m \u001b[1;33m=\u001b[0m \u001b[0mrk4\u001b[0m\u001b[1;33m(\u001b[0m\u001b[0my1_rk4\u001b[0m\u001b[1;33m,\u001b[0m \u001b[0my2_rk4\u001b[0m\u001b[1;33m,\u001b[0m \u001b[0mx\u001b[0m\u001b[1;33m,\u001b[0m \u001b[0mdx\u001b[0m\u001b[1;33m)\u001b[0m\u001b[1;33m\u001b[0m\u001b[1;33m\u001b[0m\u001b[0m\n\u001b[0;32m     22\u001b[0m         \u001b[0my1_euler\u001b[0m\u001b[1;33m,\u001b[0m \u001b[0my2_euler\u001b[0m \u001b[1;33m=\u001b[0m \u001b[0meuler\u001b[0m\u001b[1;33m(\u001b[0m\u001b[0my1_euler\u001b[0m\u001b[1;33m,\u001b[0m \u001b[0my2_euler\u001b[0m\u001b[1;33m,\u001b[0m \u001b[0mx\u001b[0m\u001b[1;33m,\u001b[0m \u001b[0mdx\u001b[0m\u001b[1;33m)\u001b[0m\u001b[1;33m\u001b[0m\u001b[1;33m\u001b[0m\u001b[0m\n\u001b[1;32m---> 23\u001b[1;33m         \u001b[0my1_heun\u001b[0m\u001b[1;33m,\u001b[0m \u001b[0my2_heun\u001b[0m \u001b[1;33m=\u001b[0m \u001b[0mheun\u001b[0m\u001b[1;33m(\u001b[0m\u001b[0my1_heun\u001b[0m\u001b[1;33m,\u001b[0m \u001b[0my2_heun\u001b[0m\u001b[1;33m,\u001b[0m \u001b[0mx\u001b[0m\u001b[1;33m,\u001b[0m \u001b[0mdx\u001b[0m\u001b[1;33m)\u001b[0m\u001b[1;33m\u001b[0m\u001b[1;33m\u001b[0m\u001b[0m\n\u001b[0m\u001b[0;32m     24\u001b[0m         \u001b[0my1_midpoint\u001b[0m\u001b[1;33m,\u001b[0m \u001b[0my2_midpoint\u001b[0m \u001b[1;33m=\u001b[0m \u001b[0mmidpoint\u001b[0m\u001b[1;33m(\u001b[0m\u001b[0my1_midpoint\u001b[0m\u001b[1;33m,\u001b[0m \u001b[0my2_midpoint\u001b[0m\u001b[1;33m,\u001b[0m \u001b[0mx\u001b[0m\u001b[1;33m,\u001b[0m \u001b[0mdx\u001b[0m\u001b[1;33m)\u001b[0m\u001b[1;33m\u001b[0m\u001b[1;33m\u001b[0m\u001b[0m\n\u001b[0;32m     25\u001b[0m         \u001b[0mallx\u001b[0m\u001b[1;33m.\u001b[0m\u001b[0mappend\u001b[0m\u001b[1;33m(\u001b[0m\u001b[0mx\u001b[0m\u001b[1;33m)\u001b[0m\u001b[1;33m\u001b[0m\u001b[1;33m\u001b[0m\u001b[0m\n",
      "\u001b[1;31mNameError\u001b[0m: name 'heun' is not defined"
     ]
    }
   ],
   "source": [
    "#Driver code\n",
    "y10 = 4\n",
    "y20 = 6\n",
    "xmax = 2.0\n",
    "n = 40\n",
    "\n",
    "plot_result(y10, y20, xmax*2, n*2)\n"
   ]
  },
  {
   "cell_type": "code",
   "execution_count": 136,
   "id": "7880e699",
   "metadata": {},
   "outputs": [],
   "source": [
    "#New Question\n",
    "def ax(x, y, t):\n",
    "    return -(x/((x**2+y**2)**(3/2)))\n",
    "def ay(x, y, t):\n",
    "    return -(y/((x**2+y**2)**(3/2)))\n",
    "\n"
   ]
  },
  {
   "cell_type": "code",
   "execution_count": 137,
   "id": "2ea943ec",
   "metadata": {},
   "outputs": [],
   "source": [
    "#rk4\n",
    "def rk4(x, y, vx, vy, t, dt):\n",
    "    k1a = ax(x, y, t)\n",
    "    k1b = ay(x, y, t)\n",
    "    k2a = ax(x+0.5*k1a*dt, y+0.5*k1b*dt, t+0.5*dt)\n",
    "    k2b = ay(x+0.5*k1a*dt,y+0.5*k1b*dt, t+0.5*dt)\n",
    "    k3a = ax(x+dt*0.5*k2a,y+k2b*0.5*dt, t+0.5*dt)\n",
    "    k3b = ay(x+k2a*0.5*dt, y+k2b*0.5*dt, t+0.5*dt)\n",
    "    k4a = ax(x+dt*k3a,y+k3b*dt, t+dt)\n",
    "    k4b = ay(x+k3a*dt, y+k3b*dt, t+dt)\n",
    "    vx += dt*(k1a+2*k2a+2*k3a+k4a)/6\n",
    "    vy += dt*(k1b+2*k2b+2*k3b+k4b)/6\n",
    "    l1a = vx\n",
    "    l2a = vx + k1a*dt*0.5\n",
    "    l3a = vx + k2a*dt*0.5\n",
    "    l4a = vx + k3a*dt\n",
    "    x += dt*(l1a+2*l2a+2*l3a+l4a)/6\n",
    "    l1b = vy\n",
    "    l2b = vy + k1b*dt*0.5\n",
    "    l3b = vy + k2b*dt*0.5\n",
    "    l4b = vy + k3b*dt\n",
    "    y += dt*(l1b+2*l2b+2*l3b+l4b)/6\n",
    "    \n",
    "    return x, y, vx, vy"
   ]
  },
  {
   "cell_type": "code",
   "execution_count": 148,
   "id": "dd73af9a",
   "metadata": {},
   "outputs": [
    {
     "data": {
      "image/png": "[encoded data removed]",
      "text/plain": [
       "<Figure size 432x288 with 1 Axes>"
      ]
     },
     "metadata": {
      "needs_background": "light"
     },
     "output_type": "display_data"
    }
   ],
   "source": [
    "#Plotting\n",
    "def plot_result(x, y, vx, vy, tmax, n):\n",
    "    dt = tmax/n\n",
    "    t = 0.0\n",
    "    allt = []\n",
    "    rx_rk4 = []\n",
    "    ry_rk4 = []\n",
    "    rvx_rk4 = []\n",
    "    rvy_rk4 = []\n",
    "    \n",
    "    x0 = x_rk4 = x\n",
    "    y0 = y_rk4 = y\n",
    "    vx0 = vx_rk4 = vx\n",
    "    vy0 = vy_rk4 = vy\n",
    "\n",
    "    for i in range(n):\n",
    "        \n",
    "        x_rk4, y_rk4, vx_rk4, vy_rk4 = rk4(x_rk4,y_rk4, vx_rk4, vy_rk4, t, dt)\n",
    "        allt.append(t)\n",
    "        rx_rk4.append(x_rk4)\n",
    "        ry_rk4.append(y_rk4)\n",
    "        rvx_rk4.append(vx_rk4)\n",
    "        rvy_rk4.append(vy_rk4)\n",
    "        t += dt\n",
    "    \n",
    "    plt.plot(rx_rk4, ry_rk4, label='Orbital Path')\n",
    "    plt.legend(loc=4)\n",
    "    plt.grid(True)\n",
    "    \n",
    "x0 = 0 \n",
    "y0 = 1\n",
    "vx0 = 1\n",
    "vy0 = 0\n",
    "tmax = 10\n",
    "n = 5000\n",
    "plot_result(x0, y0, vx0, vy0, tmax, n)"
   ]
  },
  {
   "cell_type": "code",
   "execution_count": null,
   "id": "8e87eb19",
   "metadata": {},
   "outputs": [],
   "source": []
  },
  {
   "cell_type": "code",
   "execution_count": null,
   "id": "0ea60f53",
   "metadata": {},
   "outputs": [],
   "source": []
  }
 ],
 "metadata": {
  "kernelspec": {
   "display_name": "Python 3",
   "language": "python",
   "name": "python3"
  },
  "language_info": {
   "codemirror_mode": {
    "name": "ipython",
    "version": 3
   },
   "file_extension": ".py",
   "mimetype": "text/x-python",
   "name": "python",
   "nbconvert_exporter": "python",
   "pygments_lexer": "ipython3",
   "version": "3.8.8"
  }
 },
 "nbformat": 4,
 "nbformat_minor": 5
}
