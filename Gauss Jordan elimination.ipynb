{
 "cells": [
  {
   "cell_type": "code",
   "execution_count": 14,
   "id": "208bdcd6",
   "metadata": {},
   "outputs": [],
   "source": [
    "import numpy as np\n",
    "import sys\n"
   ]
  },
  {
   "cell_type": "code",
   "execution_count": 12,
   "id": "543088f9",
   "metadata": {},
   "outputs": [],
   "source": [
    "#Input\n",
    "\n",
    "a = np.array([[6, -4, 1, -14],\n",
    "              [-4, 6, -4, 36],\n",
    "              [1, -4, 6, 6]], float)\n",
    "\n",
    "n = len(a)\n",
    "\n",
    "x = np.zeros(n)"
   ]
  },
  {
   "cell_type": "code",
   "execution_count": 13,
   "id": "648ad73c",
   "metadata": {},
   "outputs": [],
   "source": [
    "#Gauss Jordan Elimination\n",
    "\n",
    "for i in range(n):\n",
    "    if a[i][i] == 0.0:\n",
    "        sys.exit('Division by zero detected!')\n",
    "        \n",
    "    for j in range(n):\n",
    "        if i != j:\n",
    "            ratio = a[j][i]/a[i][i]\n",
    "\n",
    "            for k in range(n+1):\n",
    "                a[j][k] = a[j][k] - ratio * a[i][k]\n"
   ]
  },
  {
   "cell_type": "code",
   "execution_count": 14,
   "id": "805e1336",
   "metadata": {},
   "outputs": [
    {
     "name": "stdout",
     "output_type": "stream",
     "text": [
      "\n",
      "Required solution is: \n",
      "X0 = 10.00\tX1 = 22.00\tX2 = 14.00\t"
     ]
    }
   ],
   "source": [
    "#Obtaining solution\n",
    "\n",
    "for i in range(n):\n",
    "    x[i] = a[i][n]/a[i][i]\n",
    "    \n",
    "print('\\nRequired solution is: ')\n",
    "for i in range(n):\n",
    "    print('X%d = %0.2f' %(i,x[i]), end = '\\t')"
   ]
  },
  {
   "cell_type": "code",
   "execution_count": null,
   "id": "1d49efda",
   "metadata": {},
   "outputs": [],
   "source": []
  }
 ],
 "metadata": {
  "kernelspec": {
   "display_name": "Python 3",
   "language": "python",
   "name": "python3"
  },
  "language_info": {
   "codemirror_mode": {
    "name": "ipython",
    "version": 3
   },
   "file_extension": ".py",
   "mimetype": "text/x-python",
   "name": "python",
   "nbconvert_exporter": "python",
   "pygments_lexer": "ipython3",
   "version": "3.8.8"
  }
 },
 "nbformat": 4,
 "nbformat_minor": 5
}
